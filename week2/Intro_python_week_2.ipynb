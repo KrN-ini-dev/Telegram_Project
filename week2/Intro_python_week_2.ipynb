{
  "nbformat": 4,
  "nbformat_minor": 0,
  "metadata": {
    "colab": {
      "name": "Intro_python_week_2.ipynb",
      "provenance": [],
      "authorship_tag": "ABX9TyOg6NB5aR8zqeMEeW4NQt1l",
      "include_colab_link": true
    },
    "kernelspec": {
      "name": "python3",
      "display_name": "Python 3"
    }
  },
  "cells": [
    {
      "cell_type": "markdown",
      "metadata": {
        "id": "view-in-github",
        "colab_type": "text"
      },
      "source": [
        "<a href=\"https://colab.research.google.com/github/Asuskf/Telegram_Project/blob/main/week2/Intro_python_week_2.ipynb\" target=\"_parent\"><img src=\"https://colab.research.google.com/assets/colab-badge.svg\" alt=\"Open In Colab\"/></a>"
      ]
    },
    {
      "cell_type": "code",
      "metadata": {
        "id": "GVGTxH16Wh6z"
      },
      "source": [
        "name = 'Kevi Davi Farinango'\n",
        "first_name, middle_name, last_name = name.split()"
      ],
      "execution_count": 16,
      "outputs": []
    },
    {
      "cell_type": "markdown",
      "metadata": {
        "id": "oZVHVcXfW2Bt"
      },
      "source": [
        "## Operadores\n",
        "Realizan sumas, restas, multiplicaciones, divisiones y exponenciación (elevar un número a una potencia).\n",
        "\n",
        "**Suma:** \n",
        "\n",
        "Ejm  valor + valor\n",
        "\n",
        "**Resta:** \n",
        "\n",
        "Ejm valor - valor\n",
        "\n",
        "**Multiplicación:**  \n",
        "\n",
        "Ejm valor * valor\n",
        "\n",
        "**Potenciación:** \n",
        "\n",
        "Ejm valor ** valor\n",
        "\n",
        "##### **Nota:** No vamos a trabajar con ejemplos clásicos los cuales son números por que todas las operaciones mencionadas anteriormente son validas.\n",
        "\n",
        "**Trabajando con texto** las opciones validas a usar son: **suma y multiplicación**\n"
      ]
    },
    {
      "cell_type": "code",
      "metadata": {
        "id": "QZjh1mUAW8m1",
        "outputId": "2855afa2-12fc-4c9c-d7a2-bcfbcddd5c29",
        "colab": {
          "base_uri": "https://localhost:8080/"
        }
      },
      "source": [
        "print(first_name, middle_name)"
      ],
      "execution_count": 15,
      "outputs": [
        {
          "output_type": "stream",
          "text": [
            "Kevin Davi\n"
          ],
          "name": "stdout"
        }
      ]
    },
    {
      "cell_type": "code",
      "metadata": {
        "id": "5lCfZEH9ZA8l",
        "outputId": "b74000e9-eb8b-4c5e-8252-799a8fcd7207",
        "colab": {
          "base_uri": "https://localhost:8080/"
        }
      },
      "source": [
        "first_name = first_name + 'n'\n",
        "middle_name = middle_name + 'd'\n",
        "print(first_name, middle_name)"
      ],
      "execution_count": 17,
      "outputs": [
        {
          "output_type": "stream",
          "text": [
            "Kevin David\n"
          ],
          "name": "stdout"
        }
      ]
    },
    {
      "cell_type": "code",
      "metadata": {
        "id": "dFWcGrtDZS2u",
        "outputId": "08f1d056-392e-4092-b34c-185bff10a695",
        "colab": {
          "base_uri": "https://localhost:8080/",
          "height": 36
        }
      },
      "source": [
        "middle_name*2"
      ],
      "execution_count": 20,
      "outputs": [
        {
          "output_type": "execute_result",
          "data": {
            "application/vnd.google.colaboratory.intrinsic+json": {
              "type": "string"
            },
            "text/plain": [
              "'DavidDavid'"
            ]
          },
          "metadata": {
            "tags": []
          },
          "execution_count": 20
        }
      ]
    },
    {
      "cell_type": "markdown",
      "metadata": {
        "id": "lx2d_9sVPONn"
      },
      "source": [
        "## Expresiones booleanas\n",
        "Es aquella que puede ser verdadera (True) o falsa (False)\n",
        "\n",
        "**Nota:** No confundir el signo de asignación **(=)** con el de comparación **(==)**"
      ]
    },
    {
      "cell_type": "code",
      "metadata": {
        "id": "gWm41R__NzZf",
        "outputId": "1834d8bc-3221-42e2-adc5-5cf386b48f3e",
        "colab": {
          "base_uri": "https://localhost:8080/"
        }
      },
      "source": [
        "5 == 5"
      ],
      "execution_count": 1,
      "outputs": [
        {
          "output_type": "execute_result",
          "data": {
            "text/plain": [
              "True"
            ]
          },
          "metadata": {
            "tags": []
          },
          "execution_count": 1
        }
      ]
    },
    {
      "cell_type": "code",
      "metadata": {
        "id": "64exNe4oP0sX",
        "outputId": "17888e26-5637-44c9-a241-023669568d11",
        "colab": {
          "base_uri": "https://localhost:8080/"
        }
      },
      "source": [
        "5 == 6"
      ],
      "execution_count": 2,
      "outputs": [
        {
          "output_type": "execute_result",
          "data": {
            "text/plain": [
              "False"
            ]
          },
          "metadata": {
            "tags": []
          },
          "execution_count": 2
        }
      ]
    },
    {
      "cell_type": "code",
      "metadata": {
        "id": "cKgXJx5GP1xW",
        "outputId": "ad766ea7-2e6f-4b65-e536-974090748771",
        "colab": {
          "base_uri": "https://localhost:8080/"
        }
      },
      "source": [
        "type(5 == 6)"
      ],
      "execution_count": 3,
      "outputs": [
        {
          "output_type": "execute_result",
          "data": {
            "text/plain": [
              "bool"
            ]
          },
          "metadata": {
            "tags": []
          },
          "execution_count": 3
        }
      ]
    },
    {
      "cell_type": "markdown",
      "metadata": {
        "id": "zjVAzjtKQEc5"
      },
      "source": [
        "**El operador == es uno de los operadores de comparación.** \n",
        "Los demás son:\n",
        "\n",
        "x es **distinto de** y (x **!=** y)\n",
        "\n",
        "x es **mayor que** y (x **>** y)\n",
        "\n",
        "x es **menor que** y (x **<** y)\n",
        "\n",
        "x es **mayor o igual que** y (x **>=** y)\n",
        "\n",
        "x es **menor o igual que** y (x **<=** y)\n",
        "\n",
        "x es **lo mismo que** y (x **is** y) tambien (==)\n",
        "\n",
        "x **no es lo mismo que** y (x **is not** y)\n",
        "\n",
        "#### **Nota:** No existe algo como =< o =>\n",
        "\n",
        "**len()** Devuelve el número de elementos de una lista:"
      ]
    },
    {
      "cell_type": "code",
      "metadata": {
        "id": "GxQITgcrP7PG",
        "outputId": "7c219865-3ffb-4945-a557-db59e7a88183",
        "colab": {
          "base_uri": "https://localhost:8080/"
        }
      },
      "source": [
        "len(first_name) == len(middle_name)"
      ],
      "execution_count": 22,
      "outputs": [
        {
          "output_type": "execute_result",
          "data": {
            "text/plain": [
              "True"
            ]
          },
          "metadata": {
            "tags": []
          },
          "execution_count": 22
        }
      ]
    },
    {
      "cell_type": "code",
      "metadata": {
        "id": "ZaEVvlLZZ9Jt",
        "outputId": "bc0dfbef-8d91-4b24-ed3d-fc09d1691c89",
        "colab": {
          "base_uri": "https://localhost:8080/"
        }
      },
      "source": [
        "len(first_name) >= len(last_name) "
      ],
      "execution_count": 23,
      "outputs": [
        {
          "output_type": "execute_result",
          "data": {
            "text/plain": [
              "False"
            ]
          },
          "metadata": {
            "tags": []
          },
          "execution_count": 23
        }
      ]
    },
    {
      "cell_type": "code",
      "metadata": {
        "id": "dOvTGUttaIyK",
        "outputId": "de28898c-8505-42bf-8f9a-59806eea18a9",
        "colab": {
          "base_uri": "https://localhost:8080/"
        }
      },
      "source": [
        "len(first_name) < len (last_name)"
      ],
      "execution_count": 25,
      "outputs": [
        {
          "output_type": "execute_result",
          "data": {
            "text/plain": [
              "True"
            ]
          },
          "metadata": {
            "tags": []
          },
          "execution_count": 25
        }
      ]
    },
    {
      "cell_type": "markdown",
      "metadata": {
        "id": "WJB51xPnaUUA"
      },
      "source": [
        "## Cortocircuito \n",
        "Cuando Python está procesando una expresión lógica, evalúa la expresión de izquierda a derecha y presenta el resultado incluso sin llegar a evaluar toda la expresión."
      ]
    },
    {
      "cell_type": "code",
      "metadata": {
        "id": "FrUK-lIiaPeC"
      },
      "source": [
        "value1 = 0\n",
        "value2 = 2"
      ],
      "execution_count": 26,
      "outputs": []
    },
    {
      "cell_type": "code",
      "metadata": {
        "id": "9W873IkybKAw",
        "outputId": "ca765927-8088-46fc-ca11-618351f86f1d",
        "colab": {
          "base_uri": "https://localhost:8080/"
        }
      },
      "source": [
        "value2 < value1 and value2 / value1"
      ],
      "execution_count": 28,
      "outputs": [
        {
          "output_type": "execute_result",
          "data": {
            "text/plain": [
              "False"
            ]
          },
          "metadata": {
            "tags": []
          },
          "execution_count": 28
        }
      ]
    },
    {
      "cell_type": "code",
      "metadata": {
        "id": "GnPOKIlxbcMm",
        "outputId": "380a176b-758c-4da7-8d8a-9a4913bd504a",
        "colab": {
          "base_uri": "https://localhost:8080/",
          "height": 167
        }
      },
      "source": [
        "value2 > value1 and value2 / value1"
      ],
      "execution_count": 29,
      "outputs": [
        {
          "output_type": "error",
          "ename": "ZeroDivisionError",
          "evalue": "ignored",
          "traceback": [
            "\u001b[0;31m---------------------------------------------------------------------------\u001b[0m",
            "\u001b[0;31mZeroDivisionError\u001b[0m                         Traceback (most recent call last)",
            "\u001b[0;32m<ipython-input-29-d1b785e50e9c>\u001b[0m in \u001b[0;36m<module>\u001b[0;34m()\u001b[0m\n\u001b[0;32m----> 1\u001b[0;31m \u001b[0mvalue2\u001b[0m \u001b[0;34m>\u001b[0m \u001b[0mvalue1\u001b[0m \u001b[0;32mand\u001b[0m \u001b[0mvalue2\u001b[0m \u001b[0;34m/\u001b[0m \u001b[0mvalue1\u001b[0m\u001b[0;34m\u001b[0m\u001b[0;34m\u001b[0m\u001b[0m\n\u001b[0m",
            "\u001b[0;31mZeroDivisionError\u001b[0m: division by zero"
          ]
        }
      ]
    },
    {
      "cell_type": "markdown",
      "metadata": {
        "id": "0hi-I249bkFV"
      },
      "source": [
        "Para el caso de **and** recordemos que para que el resultado sea positivo las 2 expresiones deben ser positivos. Caso contrario es falso"
      ]
    }
  ]
}