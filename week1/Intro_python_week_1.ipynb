{
  "nbformat": 4,
  "nbformat_minor": 0,
  "metadata": {
    "colab": {
      "name": "Intro_python_week_1.ipynb",
      "provenance": [],
      "collapsed_sections": [],
      "authorship_tag": "ABX9TyNPvV03TmEpWZpJYX7HR7u9",
      "include_colab_link": true
    },
    "kernelspec": {
      "name": "python3",
      "display_name": "Python 3"
    }
  },
  "cells": [
    {
      "cell_type": "markdown",
      "metadata": {
        "id": "view-in-github",
        "colab_type": "text"
      },
      "source": [
        "<a href=\"https://colab.research.google.com/github/Asuskf/Telegram_Project/blob/main/week1/Intro_python_week_1.ipynb\" target=\"_parent\"><img src=\"https://colab.research.google.com/assets/colab-badge.svg\" alt=\"Open In Colab\"/></a>"
      ]
    },
    {
      "cell_type": "markdown",
      "metadata": {
        "id": "sOMhgkdFm9Ue"
      },
      "source": [
        "# Declaración de variables\n",
        "Es preferible escribir todo el código y comentarios en ingles \n",
        "## Tips para escribir una variable\n",
        "\n",
        "1.   Palabra indescriptible (var) \n",
        "2.   Palabras en minúscula con guiones bajos para mejorar la legibilidad (my_variable)\n",
        "\n",
        "**Nota:** Para el nombre de una variable se puede usar números y letras pero la única condición es que **el nombre empiece con cualquier letra**\n",
        "## Ejemplo\n",
        "\n"
      ]
    },
    {
      "cell_type": "code",
      "metadata": {
        "id": "S-1kqMfJJtrm"
      },
      "source": [
        "name = 'Kevin David Farinango'\n",
        "first_name, middle_name, last_name = name.split()"
      ],
      "execution_count": null,
      "outputs": []
    },
    {
      "cell_type": "markdown",
      "metadata": {
        "id": "rwYysLD0RQub"
      },
      "source": [
        "![Screenshot_2.png](data:image/png;base64,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)\n",
        "\n",
        "## mnemónico\n",
        "Una ayuda para memorizar. A menudo damos nombres mnemónicos a las variables para ayudarnos a recordar qué está almacenado en ellas"
      ]
    },
    {
      "cell_type": "code",
      "metadata": {
        "id": "NaShZDo6J4sQ"
      },
      "source": [
        "#name.split()"
      ],
      "execution_count": null,
      "outputs": []
    },
    {
      "cell_type": "code",
      "metadata": {
        "id": "behzth3sJ0jT"
      },
      "source": [
        "#first_name\n",
        "#middle_name\n",
        "#last_name"
      ],
      "execution_count": null,
      "outputs": []
    },
    {
      "cell_type": "markdown",
      "metadata": {
        "id": "hC0plh8_ruJJ"
      },
      "source": [
        "## Variables mas conocidas\n",
        "\n",
        "1.   Cadena\n",
        "2.   Números\n",
        "3.   Lista\n",
        "4.   Tupla\n",
        "5.   Diccionario\n",
        "\n",
        "**Nota:** Usaremos type para saber de que tipo es el objeto o la variable con la cual estamos trabajando"
      ]
    },
    {
      "cell_type": "code",
      "metadata": {
        "id": "CIJcPIojJ9LQ",
        "outputId": "b9f850a6-690e-4d12-bcb8-33abda132767",
        "colab": {
          "base_uri": "https://localhost:8080/",
          "height": 36
        }
      },
      "source": [
        "# Cadena de caracteres\n",
        "print(f'{name} es un tipo de dato {type(name)}')"
      ],
      "execution_count": null,
      "outputs": [
        {
          "output_type": "stream",
          "text": [
            "Kevin David Farinango es un tipo de dato <class 'str'>\n"
          ],
          "name": "stdout"
        }
      ]
    },
    {
      "cell_type": "code",
      "metadata": {
        "id": "jSHkC9aiK6Yy",
        "outputId": "e484b638-955c-4e5c-dd2e-f500c84bba7b",
        "colab": {
          "base_uri": "https://localhost:8080/",
          "height": 36
        }
      },
      "source": [
        "stature = 1.65\n",
        "print(f'{stature} es un tipo de dato {type(stature)}')"
      ],
      "execution_count": null,
      "outputs": [
        {
          "output_type": "stream",
          "text": [
            "1.65 es un tipo de dato <class 'float'>\n"
          ],
          "name": "stdout"
        }
      ]
    },
    {
      "cell_type": "code",
      "metadata": {
        "id": "-fnB7dOEKR4_",
        "outputId": "0bb4848a-5761-46b1-ea0e-8ba6e84491d2",
        "colab": {
          "base_uri": "https://localhost:8080/",
          "height": 54
        }
      },
      "source": [
        "date_of_birth = '24/01/97'\n",
        "print(f'{date_of_birth} es de tipo {type(date_of_birth)}')\n",
        "\n",
        "# Plus date\n",
        "from datetime import datetime\n",
        "\n",
        "date_of_birth_2 = datetime.strptime(date_of_birth, '%d/%m/%y')\n",
        "print(f'{date_of_birth_2} es de tipo {type(date_of_birth_2)}')\n",
        "\n"
      ],
      "execution_count": null,
      "outputs": [
        {
          "output_type": "stream",
          "text": [
            "24/01/97 es de tipo <class 'str'>\n",
            "1997-01-24 00:00:00 es de tipo <class 'datetime.datetime'>\n"
          ],
          "name": "stdout"
        }
      ]
    },
    {
      "cell_type": "code",
      "metadata": {
        "id": "wP50BFEdK3vA"
      },
      "source": [
        "today = datetime.now()      \n",
        "difference_beteween_days = today - date_of_birth_2  \n",
        "years = int(difference_beteween_days.days / 365)\n",
        "print(f\"{years} Años es de tipo {type(years)}\")"
      ],
      "execution_count": null,
      "outputs": []
    },
    {
      "cell_type": "code",
      "metadata": {
        "id": "o2w_JdpzLxxe",
        "outputId": "76808658-070c-45e3-b9fa-b75d449cb6a8",
        "colab": {
          "base_uri": "https://localhost:8080/",
          "height": 54
        }
      },
      "source": [
        "list_of_information = [name, stature, years]\n",
        "print(f'{list_of_information} es un tipo de dato {type(list_of_information)}')\n",
        "\n",
        "list_of_information_2 = (name, stature, years, )\n",
        "print(f'{list_of_information_2} es un tipo de dato {type(list_of_information_2)}')\n"
      ],
      "execution_count": null,
      "outputs": [
        {
          "output_type": "stream",
          "text": [
            "['Kevin David Farinango', 1.65, 23] es un tipo de dato <class 'list'>\n",
            "('Kevin David Farinango', 1.65, 23) es un tipo de dato <class 'tuple'>\n"
          ],
          "name": "stdout"
        }
      ]
    },
    {
      "cell_type": "markdown",
      "metadata": {
        "id": "p7wxkVwb3-E5"
      },
      "source": [
        "La diferencia primordial entre una lista y una tupla es que la lista es mutable (se puede modificar) la tupla es inmutable (no se puede modificar). **La tupla usa un espacio de memoria y la lista 2**. "
      ]
    },
    {
      "cell_type": "code",
      "metadata": {
        "id": "LuL5MJU6uTZ3",
        "outputId": "ebd17e05-8304-4a5d-ab3b-f2a8a7ad5f4d",
        "colab": {
          "base_uri": "https://localhost:8080/",
          "height": 110
        }
      },
      "source": [
        "list_of_information.append('Avenida Siempreviva 742')\n",
        "list_of_information.append('Avenida Siempreviva 742')\n"
      ],
      "execution_count": null,
      "outputs": [
        {
          "output_type": "execute_result",
          "data": {
            "text/plain": [
              "['Kevin David Farinango',\n",
              " 1.65,\n",
              " 23,\n",
              " 'Avenida Siempreviva 742',\n",
              " 'Avenida Siempreviva 742']"
            ]
          },
          "metadata": {
            "tags": []
          },
          "execution_count": 49
        }
      ]
    },
    {
      "cell_type": "code",
      "metadata": {
        "id": "cYyA7Pg-Mw2r",
        "outputId": "f9a247d0-a33a-4bb6-ba51-e3bc61edd115",
        "colab": {
          "base_uri": "https://localhost:8080/",
          "height": 110
        }
      },
      "source": [
        "list_of_information"
      ],
      "execution_count": null,
      "outputs": [
        {
          "output_type": "execute_result",
          "data": {
            "text/plain": [
              "['Kevin David Farinango',\n",
              " 1.65,\n",
              " 23,\n",
              " 'Avenida Siempreviva 742',\n",
              " 'Avenida Siempreviva 742']"
            ]
          },
          "metadata": {
            "tags": []
          },
          "execution_count": 50
        }
      ]
    },
    {
      "cell_type": "code",
      "metadata": {
        "id": "DJEdN4JL5r6z"
      },
      "source": [
        "del list_of_information[-1]"
      ],
      "execution_count": null,
      "outputs": []
    },
    {
      "cell_type": "code",
      "metadata": {
        "id": "Qx04XfqN5zkx",
        "outputId": "8fb439ef-7f1f-4056-b195-9b4eefb7f6df",
        "colab": {
          "base_uri": "https://localhost:8080/",
          "height": 36
        }
      },
      "source": [
        "list_of_information"
      ],
      "execution_count": null,
      "outputs": [
        {
          "output_type": "execute_result",
          "data": {
            "text/plain": [
              "['Kevin David Farinango', 1.65, 23, 'Avenida Siempreviva 742']"
            ]
          },
          "metadata": {
            "tags": []
          },
          "execution_count": 52
        }
      ]
    },
    {
      "cell_type": "markdown",
      "metadata": {
        "id": "ZnfPpisl5_B_"
      },
      "source": [
        "Recorrer una lista"
      ]
    },
    {
      "cell_type": "code",
      "metadata": {
        "id": "RFPzZMdn51B1",
        "outputId": "9e4dcd64-d307-4a89-bde9-6b71f47afc7e",
        "colab": {
          "base_uri": "https://localhost:8080/",
          "height": 36
        }
      },
      "source": [
        "#Principio al fin\n",
        "list_of_information[:]\n",
        "\n",
        "#Mismo proceso para la tupla \n",
        "#list_of_information_2[:]"
      ],
      "execution_count": null,
      "outputs": [
        {
          "output_type": "execute_result",
          "data": {
            "text/plain": [
              "('Kevin David Farinango', 1.65, 23)"
            ]
          },
          "metadata": {
            "tags": []
          },
          "execution_count": 58
        }
      ]
    },
    {
      "cell_type": "code",
      "metadata": {
        "id": "Osneg0Vt6Fua",
        "outputId": "4ab010ec-1e43-4fb0-94df-123292ad28de",
        "colab": {
          "base_uri": "https://localhost:8080/",
          "height": 36
        }
      },
      "source": [
        "#Hasta el penultimo elemento\n",
        "list_of_information[:-1]\n",
        "\n",
        "#Mismo proceso para la tupla \n",
        "#list_of_information_2[:-1]"
      ],
      "execution_count": null,
      "outputs": [
        {
          "output_type": "execute_result",
          "data": {
            "text/plain": [
              "('Kevin David Farinango', 1.65)"
            ]
          },
          "metadata": {
            "tags": []
          },
          "execution_count": 61
        }
      ]
    },
    {
      "cell_type": "code",
      "metadata": {
        "id": "IOhym4Lt6O3l",
        "outputId": "384e9036-b5f4-484f-f106-c5ccfafa306b",
        "colab": {
          "base_uri": "https://localhost:8080/",
          "height": 36
        }
      },
      "source": [
        "#Poner al reves la lista\n",
        "list_of_information[::-1]\n",
        "\n",
        "#Mismo proceso para la tupla \n",
        "#list_of_information_2[::-1]"
      ],
      "execution_count": null,
      "outputs": [
        {
          "output_type": "execute_result",
          "data": {
            "text/plain": [
              "['Avenida Siempreviva 742', 23, 1.65, 'Kevin David Farinango']"
            ]
          },
          "metadata": {
            "tags": []
          },
          "execution_count": 62
        }
      ]
    },
    {
      "cell_type": "code",
      "metadata": {
        "id": "x---YO2c6VCX",
        "outputId": "9015bbf3-c131-4a58-ff3f-d909042428f9",
        "colab": {
          "base_uri": "https://localhost:8080/",
          "height": 36
        }
      },
      "source": [
        "#Saltando de uno\n",
        "list_of_information[::2]\n",
        "\n",
        "#Mismo proceso para la tupla \n",
        "#list_of_information_2[::2]"
      ],
      "execution_count": null,
      "outputs": [
        {
          "output_type": "execute_result",
          "data": {
            "text/plain": [
              "['Kevin David Farinango', 23]"
            ]
          },
          "metadata": {
            "tags": []
          },
          "execution_count": 63
        }
      ]
    },
    {
      "cell_type": "code",
      "metadata": {
        "id": "sIjOim3F7q4W",
        "outputId": "88903c2d-cb08-4579-f04c-f45125c27933",
        "colab": {
          "base_uri": "https://localhost:8080/",
          "height": 110
        }
      },
      "source": [
        "[print(type(element)) for element in list_of_information ]"
      ],
      "execution_count": null,
      "outputs": [
        {
          "output_type": "stream",
          "text": [
            "<class 'str'>\n",
            "<class 'float'>\n",
            "<class 'int'>\n",
            "<class 'str'>\n"
          ],
          "name": "stdout"
        },
        {
          "output_type": "execute_result",
          "data": {
            "text/plain": [
              "[None, None, None, None]"
            ]
          },
          "metadata": {
            "tags": []
          },
          "execution_count": 70
        }
      ]
    },
    {
      "cell_type": "code",
      "metadata": {
        "id": "yFFgAxRg6dlV"
      },
      "source": [
        "dict_asuskf = {'first_name':first_name, 'middle_name':middle_name, 'last_name':last_name, 'stature':stature, 'years':years}"
      ],
      "execution_count": null,
      "outputs": []
    },
    {
      "cell_type": "code",
      "metadata": {
        "id": "-gT0AlR57gwL",
        "outputId": "48f3acea-9214-438e-de63-29ba92b9f34c",
        "colab": {
          "base_uri": "https://localhost:8080/",
          "height": 36
        }
      },
      "source": [
        "dict_asuskf['first_name']"
      ],
      "execution_count": null,
      "outputs": [
        {
          "output_type": "execute_result",
          "data": {
            "application/vnd.google.colaboratory.intrinsic+json": {
              "type": "string"
            },
            "text/plain": [
              "'Kevin'"
            ]
          },
          "metadata": {
            "tags": []
          },
          "execution_count": 66
        }
      ]
    },
    {
      "cell_type": "code",
      "metadata": {
        "id": "-Lqw0E6j7iLy"
      },
      "source": [
        ""
      ],
      "execution_count": null,
      "outputs": []
    }
  ]
}