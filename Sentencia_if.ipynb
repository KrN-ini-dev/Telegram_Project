{
 "cells": [
  {
   "cell_type": "markdown",
   "metadata": {},
   "source": [
    "### Sentencia IF"
   ]
  },
  {
   "cell_type": "markdown",
   "metadata": {},
   "source": [
    "Sentencia if: Se usa para decidir si cierto bloque de instrucciones (código) se ejecutará o no, dada una condición.\n",
    "En caso de que la condición no se cumpla, se ejecutan otras líneas de código."
   ]
  },
  {
   "cell_type": "markdown",
   "metadata": {},
   "source": [
    "- Sintaxis: Simple\n",
    "\n",
    "...código previo\n",
    "\n",
    "if condición:\n",
    "    #Bloque a ejecutar si la condición es verdadera (se cumple)  / Observa la identación\n",
    "...código posterior"
   ]
  },
  {
   "cell_type": "code",
   "execution_count": null,
   "metadata": {
    "scrolled": true
   },
   "outputs": [],
   "source": [
    "print(\"Hola a todos\")\n",
    "i=10\n",
    "if i>15:\n",
    "    print (\"Estoy en mundo al revés\")\n",
    "print(\"¿Qué tal les va?\")"
   ]
  },
  {
   "cell_type": "markdown",
   "metadata": {},
   "source": [
    "- Sintaxis: if/ else -> Si / Si no\n",
    "\n",
    "...código previo\n",
    "\n",
    "if condición:\n",
    "    #Bloque a ejecutar si la condición es verdadera (se cumple)  / Observa la identación\n",
    "else:\n",
    "    #Bloque a ejecutar si la condición es falsa (no se cumple)  / Observa la identación\n",
    "    \n",
    "...código posterior"
   ]
  },
  {
   "cell_type": "markdown",
   "metadata": {},
   "source": [
    "Nota: La función input maneja todo por defecto como una cadenas de caracteres, tipo string. Por lo que para ingresar números ya sean enteros o flotantes, se pone primero el tipo de número"
   ]
  },
  {
   "cell_type": "code",
   "execution_count": null,
   "metadata": {
    "scrolled": true
   },
   "outputs": [],
   "source": [
    "i = int(input (\"Ingrese la cifra del mes en que naciste: \"))\n",
    "if i<=9:\n",
    "    print (\"Tu cumpleaños seguro ya pasó este año\")\n",
    "else:\n",
    "    print(\"Probablemente ya fue tu cumpleaños o aún falta\") #Debido a que el cumpleaños pudo haber\n",
    "#sido a principios de octubre"
   ]
  },
  {
   "cell_type": "markdown",
   "metadata": {},
   "source": [
    "- Sintaxis: if/elif.../else -> Si / Sino, en caso de / Sino, en caso de ... / Si no\n",
    "...código previo\n",
    "\n",
    "if condición:\n",
    "    #Bloque a ejecutar si la primera condición es verdadera (se cumple)  / Observa la identación\n",
    "elif condición:\n",
    "    #Bloque a ejecutar si la segunda condición es verdadera (se cumple)  / Observa la identación\n",
    "    .\n",
    "    .\n",
    "    .\n",
    "else:\n",
    "    #Bloque a ejecutar si ningua de las condiciones anteriores se cumple  / Observa la identació\n",
    "   \n",
    "    \n",
    "...código posterior"
   ]
  },
  {
   "cell_type": "code",
   "execution_count": null,
   "metadata": {
    "scrolled": true
   },
   "outputs": [],
   "source": [
    "print(\"Siguiendo con esto...\")\n",
    "\n",
    "i = 20\n",
    "if (i == 10): \n",
    "    print (\"i es 10\") \n",
    "elif (i == 15): \n",
    "    print (\"i es 15\") \n",
    "elif (i == 20): \n",
    "    print (\"i es 20\") \n",
    "else: \n",
    "    print (\"no sé cuanto vale i\") "
   ]
  },
  {
   "cell_type": "markdown",
   "metadata": {},
   "source": [
    "- Sintaxis: Sentencias anidadas\n",
    "\n",
    "...código previo\n",
    "\n",
    "if condición:\n",
    "\n",
    "    if condición:\n",
    "        #Bloque a ejecutar si la condición es verdadera (se cumple)  / Observa la identación\n",
    "    else:\n",
    "        #Bloque a ejecutar si la condición del segundo   / Observa la identación\n",
    "    \n",
    "...código posterior"
   ]
  },
  {
   "cell_type": "code",
   "execution_count": null,
   "metadata": {
    "scrolled": true
   },
   "outputs": [],
   "source": [
    "print(\"¿Y ahora qué?\")\n",
    "b = input(\"Escribe una especie animal: \")\n",
    "if (b=='perro'):\n",
    "    c = input(\"¿Vives en casa o departamento? \")\n",
    "    if (c=='casa'):\n",
    "        print(\"Puedes comprar un perro grande para que corra en el jardín\")\n",
    "    else:\n",
    "        print(\"Procura no dejar a tu perro solo muco rato y paseen juntos\")\n",
    "else:\n",
    "    print(\"¿Cuentan insectos?\")"
   ]
  }
 ],
 "metadata": {
  "celltoolbar": "Raw Cell Format",
  "kernelspec": {
   "display_name": "Python 3",
   "language": "python",
   "name": "python3"
  },
  "language_info": {
   "codemirror_mode": {
    "name": "ipython",
    "version": 3
   },
   "file_extension": ".py",
   "mimetype": "text/x-python",
   "name": "python",
   "nbconvert_exporter": "python",
   "pygments_lexer": "ipython3",
   "version": "3.7.4"
  }
 },
 "nbformat": 4,
 "nbformat_minor": 2
}
